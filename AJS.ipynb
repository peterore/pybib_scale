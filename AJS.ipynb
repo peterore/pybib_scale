{
 "cells": [
  {
   "cell_type": "code",
   "execution_count": 1,
   "id": "ab6d93a5",
   "metadata": {},
   "outputs": [
    {
     "ename": "SyntaxError",
     "evalue": "invalid syntax (Temp/ipykernel_4560/448930390.py, line 4)",
     "output_type": "error",
     "traceback": [
      "\u001b[1;36m  File \u001b[1;32m\"C:\\Users\\SHIFAT~1\\AppData\\Local\\Temp/ipykernel_4560/448930390.py\"\u001b[1;36m, line \u001b[1;32m4\u001b[0m\n\u001b[1;33m    Import pandas as pd\u001b[0m\n\u001b[1;37m           ^\u001b[0m\n\u001b[1;31mSyntaxError\u001b[0m\u001b[1;31m:\u001b[0m invalid syntax\n"
     ]
    }
   ],
   "source": [
    "from datetime import datetime\n",
    "\n",
    "!pip insatll pandas\n",
    "Import pandas as pd\n",
    "\n",
    "!pip install pybliometrics\n",
    "From pybliometrics.scopus import ScopusSearch\n",
    "\n",
    "start= datetime.now().replace(microsecond=0)\n",
    "s= ScopusSearch(“ISSN (0002-9602) AND PUBYEAR IS 2010”)\n",
    "end= datetime.now().replace(microsecond= 0)\n",
    "Print ( end- start)\n",
    "Print (len(s.result)\n",
    "\n"
   ]
  },
  {
   "cell_type": "code",
   "execution_count": 2,
   "id": "c3b9f64f",
   "metadata": {},
   "outputs": [
    {
     "ename": "SyntaxError",
     "evalue": "invalid syntax (Temp/ipykernel_4560/2869785643.py, line 7)",
     "output_type": "error",
     "traceback": [
      "\u001b[1;36m  File \u001b[1;32m\"C:\\Users\\SHIFAT~1\\AppData\\Local\\Temp/ipykernel_4560/2869785643.py\"\u001b[1;36m, line \u001b[1;32m7\u001b[0m\n\u001b[1;33m    From pybliometrics.scopus import ScopusSearch\u001b[0m\n\u001b[1;37m         ^\u001b[0m\n\u001b[1;31mSyntaxError\u001b[0m\u001b[1;31m:\u001b[0m invalid syntax\n"
     ]
    }
   ],
   "source": [
    "from datetime import datetime\n",
    "\n",
    "!pip insatll pandas\n",
    "import pandas as pd\n",
    "\n",
    "!pip install pybliometrics\n",
    "From pybliometrics.scopus import ScopusSearch\n",
    "\n",
    "start= datetime.now().replace(microsecond=0)\n",
    "s= ScopusSearch(“ISSN (0002-9602) AND PUBYEAR IS 2010”)\n",
    "end= datetime.now().replace(microsecond= 0)\n",
    "print ( end- start)\n",
    "print (len(s.result)\n",
    "\n"
   ]
  },
  {
   "cell_type": "code",
   "execution_count": 3,
   "id": "1de97d1c",
   "metadata": {},
   "outputs": [
    {
     "ename": "SyntaxError",
     "evalue": "invalid syntax (Temp/ipykernel_4560/3955006591.py, line 4)",
     "output_type": "error",
     "traceback": [
      "\u001b[1;36m  File \u001b[1;32m\"C:\\Users\\SHIFAT~1\\AppData\\Local\\Temp/ipykernel_4560/3955006591.py\"\u001b[1;36m, line \u001b[1;32m4\u001b[0m\n\u001b[1;33m    Import pandas as pd\u001b[0m\n\u001b[1;37m           ^\u001b[0m\n\u001b[1;31mSyntaxError\u001b[0m\u001b[1;31m:\u001b[0m invalid syntax\n"
     ]
    }
   ],
   "source": [
    "from datetime import datetime\n",
    "\n",
    "!pip insatll pandas\n",
    "Import pandas as pd\n",
    "\n",
    "!pip install pybliometrics\n",
    "from pybliometrics.scopus import ScopusSearch\n",
    "\n",
    "start= datetime.now().replace(microsecond=0)\n",
    "s= ScopusSearch(“ISSN (0002-9602) AND PUBYEAR IS 2010”)\n",
    "end= datetime.now().replace(microsecond= 0)\n",
    "Print ( end- start)\n",
    "Print (len(s.result)\n",
    "\n"
   ]
  },
  {
   "cell_type": "code",
   "execution_count": 4,
   "id": "7552e725",
   "metadata": {},
   "outputs": [
    {
     "ename": "SyntaxError",
     "evalue": "invalid character '“' (U+201C) (Temp/ipykernel_4560/1258934829.py, line 10)",
     "output_type": "error",
     "traceback": [
      "\u001b[1;36m  File \u001b[1;32m\"C:\\Users\\SHIFAT~1\\AppData\\Local\\Temp/ipykernel_4560/1258934829.py\"\u001b[1;36m, line \u001b[1;32m10\u001b[0m\n\u001b[1;33m    s= ScopusSearch(“ISSN (0002-9602) AND PUBYEAR IS 2010”)\u001b[0m\n\u001b[1;37m                    ^\u001b[0m\n\u001b[1;31mSyntaxError\u001b[0m\u001b[1;31m:\u001b[0m invalid character '“' (U+201C)\n"
     ]
    }
   ],
   "source": [
    "from datetime import datetime\n",
    "\n",
    "!pip insatll pandas\n",
    "import pandas as pd\n",
    "\n",
    "!pip install pybliometrics\n",
    "from pybliometrics.scopus import ScopusSearch\n",
    "\n",
    "start= datetime.now().replace(microsecond=0)\n",
    "s= ScopusSearch(“ISSN (0002-9602) AND PUBYEAR IS 2010”)\n",
    "end= datetime.now().replace(microsecond= 0)\n",
    "print ( end- start)\n",
    "print (len(s.result)"
   ]
  },
  {
   "cell_type": "code",
   "execution_count": 5,
   "id": "cda60951",
   "metadata": {},
   "outputs": [
    {
     "ename": "SyntaxError",
     "evalue": "unexpected EOF while parsing (Temp/ipykernel_4560/2143144572.py, line 13)",
     "output_type": "error",
     "traceback": [
      "\u001b[1;36m  File \u001b[1;32m\"C:\\Users\\SHIFAT~1\\AppData\\Local\\Temp/ipykernel_4560/2143144572.py\"\u001b[1;36m, line \u001b[1;32m13\u001b[0m\n\u001b[1;33m    print (len(s.result)\u001b[0m\n\u001b[1;37m                        ^\u001b[0m\n\u001b[1;31mSyntaxError\u001b[0m\u001b[1;31m:\u001b[0m unexpected EOF while parsing\n"
     ]
    }
   ],
   "source": [
    "from datetime import datetime\n",
    "\n",
    "!pip insatll pandas\n",
    "import pandas as pd\n",
    "\n",
    "!pip install pybliometrics\n",
    "from pybliometrics.scopus import ScopusSearch\n",
    "\n",
    "start= datetime.now().replace(microsecond=0)\n",
    "s= ScopusSearch(\"ISSN (0002-9602) AND PUBYEAR IS 2010\")\n",
    "end= datetime.now().replace(microsecond= 0)\n",
    "print ( end- start)\n",
    "print (len(s.result)"
   ]
  },
  {
   "cell_type": "code",
   "execution_count": 6,
   "id": "6b8c8874",
   "metadata": {},
   "outputs": [
    {
     "name": "stderr",
     "output_type": "stream",
     "text": [
      "ERROR: unknown command \"insatll\" - maybe you meant \"install\"\n",
      "\n"
     ]
    },
    {
     "name": "stdout",
     "output_type": "stream",
     "text": [
      "Requirement already satisfied: pybliometrics in c:\\users\\shifat hossain\\anaconda3\\lib\\site-packages (3.3.0)\n",
      "Requirement already satisfied: simplejson in c:\\users\\shifat hossain\\anaconda3\\lib\\site-packages (from pybliometrics) (3.17.6)\n",
      "Requirement already satisfied: requests in c:\\users\\shifat hossain\\anaconda3\\lib\\site-packages (from pybliometrics) (2.26.0)\n",
      "Requirement already satisfied: tqdm in c:\\users\\shifat hossain\\anaconda3\\lib\\site-packages (from pybliometrics) (4.62.3)\n",
      "Requirement already satisfied: pbr in c:\\users\\shifat hossain\\anaconda3\\lib\\site-packages (from pybliometrics) (5.8.1)\n",
      "Requirement already satisfied: charset-normalizer~=2.0.0 in c:\\users\\shifat hossain\\anaconda3\\lib\\site-packages (from requests->pybliometrics) (2.0.4)\n",
      "Requirement already satisfied: idna<4,>=2.5 in c:\\users\\shifat hossain\\anaconda3\\lib\\site-packages (from requests->pybliometrics) (3.2)\n",
      "Requirement already satisfied: certifi>=2017.4.17 in c:\\users\\shifat hossain\\anaconda3\\lib\\site-packages (from requests->pybliometrics) (2021.10.8)\n",
      "Requirement already satisfied: urllib3<1.27,>=1.21.1 in c:\\users\\shifat hossain\\anaconda3\\lib\\site-packages (from requests->pybliometrics) (1.26.7)\n",
      "Requirement already satisfied: colorama in c:\\users\\shifat hossain\\anaconda3\\lib\\site-packages (from tqdm->pybliometrics) (0.4.4)\n",
      "0:00:03\n"
     ]
    },
    {
     "ename": "AttributeError",
     "evalue": "'ScopusSearch' object has no attribute 'result'",
     "output_type": "error",
     "traceback": [
      "\u001b[1;31m---------------------------------------------------------------------------\u001b[0m",
      "\u001b[1;31mAttributeError\u001b[0m                            Traceback (most recent call last)",
      "\u001b[1;32mC:\\Users\\SHIFAT~1\\AppData\\Local\\Temp/ipykernel_4560/1203235245.py\u001b[0m in \u001b[0;36m<module>\u001b[1;34m\u001b[0m\n\u001b[0;32m     11\u001b[0m \u001b[0mend\u001b[0m\u001b[1;33m=\u001b[0m \u001b[0mdatetime\u001b[0m\u001b[1;33m.\u001b[0m\u001b[0mnow\u001b[0m\u001b[1;33m(\u001b[0m\u001b[1;33m)\u001b[0m\u001b[1;33m.\u001b[0m\u001b[0mreplace\u001b[0m\u001b[1;33m(\u001b[0m\u001b[0mmicrosecond\u001b[0m\u001b[1;33m=\u001b[0m \u001b[1;36m0\u001b[0m\u001b[1;33m)\u001b[0m\u001b[1;33m\u001b[0m\u001b[1;33m\u001b[0m\u001b[0m\n\u001b[0;32m     12\u001b[0m \u001b[0mprint\u001b[0m \u001b[1;33m(\u001b[0m \u001b[0mend\u001b[0m\u001b[1;33m-\u001b[0m \u001b[0mstart\u001b[0m\u001b[1;33m)\u001b[0m\u001b[1;33m\u001b[0m\u001b[1;33m\u001b[0m\u001b[0m\n\u001b[1;32m---> 13\u001b[1;33m \u001b[0mprint\u001b[0m \u001b[1;33m(\u001b[0m\u001b[0mlen\u001b[0m\u001b[1;33m(\u001b[0m\u001b[0ms\u001b[0m\u001b[1;33m.\u001b[0m\u001b[0mresult\u001b[0m\u001b[1;33m)\u001b[0m\u001b[1;33m)\u001b[0m\u001b[1;33m\u001b[0m\u001b[1;33m\u001b[0m\u001b[0m\n\u001b[0m",
      "\u001b[1;31mAttributeError\u001b[0m: 'ScopusSearch' object has no attribute 'result'"
     ]
    }
   ],
   "source": [
    "from datetime import datetime\n",
    "\n",
    "!pip insatll pandas\n",
    "import pandas as pd\n",
    "\n",
    "!pip install pybliometrics\n",
    "from pybliometrics.scopus import ScopusSearch\n",
    "\n",
    "start= datetime.now().replace(microsecond=0)\n",
    "s= ScopusSearch(\"ISSN (0002-9602) AND PUBYEAR IS 2010\")\n",
    "end= datetime.now().replace(microsecond= 0)\n",
    "print ( end- start)\n",
    "print (len(s.result))"
   ]
  },
  {
   "cell_type": "code",
   "execution_count": 7,
   "id": "9d4f1c2c",
   "metadata": {
    "scrolled": true
   },
   "outputs": [
    {
     "name": "stdout",
     "output_type": "stream",
     "text": [
      "Requirement already satisfied: pandas in c:\\users\\shifat hossain\\anaconda3\\lib\\site-packages (1.3.4)\n",
      "Requirement already satisfied: python-dateutil>=2.7.3 in c:\\users\\shifat hossain\\anaconda3\\lib\\site-packages (from pandas) (2.8.2)\n",
      "Requirement already satisfied: pytz>=2017.3 in c:\\users\\shifat hossain\\anaconda3\\lib\\site-packages (from pandas) (2021.3)\n",
      "Requirement already satisfied: numpy>=1.17.3 in c:\\users\\shifat hossain\\anaconda3\\lib\\site-packages (from pandas) (1.20.3)\n",
      "Requirement already satisfied: six>=1.5 in c:\\users\\shifat hossain\\anaconda3\\lib\\site-packages (from python-dateutil>=2.7.3->pandas) (1.16.0)\n",
      "Requirement already satisfied: pybliometrics in c:\\users\\shifat hossain\\anaconda3\\lib\\site-packages (3.3.0)\n",
      "Requirement already satisfied: pbr in c:\\users\\shifat hossain\\anaconda3\\lib\\site-packages (from pybliometrics) (5.8.1)\n",
      "Requirement already satisfied: simplejson in c:\\users\\shifat hossain\\anaconda3\\lib\\site-packages (from pybliometrics) (3.17.6)\n",
      "Requirement already satisfied: requests in c:\\users\\shifat hossain\\anaconda3\\lib\\site-packages (from pybliometrics) (2.26.0)\n",
      "Requirement already satisfied: tqdm in c:\\users\\shifat hossain\\anaconda3\\lib\\site-packages (from pybliometrics) (4.62.3)\n",
      "Requirement already satisfied: urllib3<1.27,>=1.21.1 in c:\\users\\shifat hossain\\anaconda3\\lib\\site-packages (from requests->pybliometrics) (1.26.7)\n",
      "Requirement already satisfied: certifi>=2017.4.17 in c:\\users\\shifat hossain\\anaconda3\\lib\\site-packages (from requests->pybliometrics) (2021.10.8)\n",
      "Requirement already satisfied: charset-normalizer~=2.0.0 in c:\\users\\shifat hossain\\anaconda3\\lib\\site-packages (from requests->pybliometrics) (2.0.4)\n",
      "Requirement already satisfied: idna<4,>=2.5 in c:\\users\\shifat hossain\\anaconda3\\lib\\site-packages (from requests->pybliometrics) (3.2)\n",
      "Requirement already satisfied: colorama in c:\\users\\shifat hossain\\anaconda3\\lib\\site-packages (from tqdm->pybliometrics) (0.4.4)\n",
      "0:00:00\n"
     ]
    },
    {
     "ename": "AttributeError",
     "evalue": "'ScopusSearch' object has no attribute 'result'",
     "output_type": "error",
     "traceback": [
      "\u001b[1;31m---------------------------------------------------------------------------\u001b[0m",
      "\u001b[1;31mAttributeError\u001b[0m                            Traceback (most recent call last)",
      "\u001b[1;32mC:\\Users\\SHIFAT~1\\AppData\\Local\\Temp/ipykernel_4560/276390903.py\u001b[0m in \u001b[0;36m<module>\u001b[1;34m\u001b[0m\n\u001b[0;32m     11\u001b[0m \u001b[0mend\u001b[0m\u001b[1;33m=\u001b[0m \u001b[0mdatetime\u001b[0m\u001b[1;33m.\u001b[0m\u001b[0mnow\u001b[0m\u001b[1;33m(\u001b[0m\u001b[1;33m)\u001b[0m\u001b[1;33m.\u001b[0m\u001b[0mreplace\u001b[0m\u001b[1;33m(\u001b[0m\u001b[0mmicrosecond\u001b[0m\u001b[1;33m=\u001b[0m \u001b[1;36m0\u001b[0m\u001b[1;33m)\u001b[0m\u001b[1;33m\u001b[0m\u001b[1;33m\u001b[0m\u001b[0m\n\u001b[0;32m     12\u001b[0m \u001b[0mprint\u001b[0m \u001b[1;33m(\u001b[0m \u001b[0mend\u001b[0m\u001b[1;33m-\u001b[0m \u001b[0mstart\u001b[0m\u001b[1;33m)\u001b[0m\u001b[1;33m\u001b[0m\u001b[1;33m\u001b[0m\u001b[0m\n\u001b[1;32m---> 13\u001b[1;33m \u001b[0mprint\u001b[0m \u001b[1;33m(\u001b[0m\u001b[0mlen\u001b[0m\u001b[1;33m(\u001b[0m\u001b[0ms\u001b[0m\u001b[1;33m.\u001b[0m\u001b[0mresult\u001b[0m\u001b[1;33m)\u001b[0m\u001b[1;33m)\u001b[0m\u001b[1;33m\u001b[0m\u001b[1;33m\u001b[0m\u001b[0m\n\u001b[0m",
      "\u001b[1;31mAttributeError\u001b[0m: 'ScopusSearch' object has no attribute 'result'"
     ]
    }
   ],
   "source": [
    "from datetime import datetime\n",
    "\n",
    "!pip install pandas\n",
    "import pandas as pd\n",
    "\n",
    "!pip install pybliometrics\n",
    "from pybliometrics.scopus import ScopusSearch\n",
    "\n",
    "start= datetime.now().replace(microsecond=0)\n",
    "s= ScopusSearch(\"ISSN (0002-9602) AND PUBYEAR IS 2010\")\n",
    "end= datetime.now().replace(microsecond= 0)\n",
    "print ( end- start)\n",
    "print (len(s.result))"
   ]
  },
  {
   "cell_type": "code",
   "execution_count": 21,
   "id": "7c19ad71",
   "metadata": {},
   "outputs": [
    {
     "name": "stdout",
     "output_type": "stream",
     "text": [
      "Requirement already satisfied: pandas in c:\\users\\shifat hossain\\anaconda3\\lib\\site-packages (1.3.4)\n",
      "Requirement already satisfied: pytz>=2017.3 in c:\\users\\shifat hossain\\anaconda3\\lib\\site-packages (from pandas) (2021.3)\n",
      "Requirement already satisfied: numpy>=1.17.3 in c:\\users\\shifat hossain\\anaconda3\\lib\\site-packages (from pandas) (1.20.3)\n",
      "Requirement already satisfied: python-dateutil>=2.7.3 in c:\\users\\shifat hossain\\anaconda3\\lib\\site-packages (from pandas) (2.8.2)\n",
      "Requirement already satisfied: six>=1.5 in c:\\users\\shifat hossain\\anaconda3\\lib\\site-packages (from python-dateutil>=2.7.3->pandas) (1.16.0)\n",
      "Requirement already satisfied: pybliometrics in c:\\users\\shifat hossain\\anaconda3\\lib\\site-packages (3.3.0)\n",
      "Requirement already satisfied: pbr in c:\\users\\shifat hossain\\anaconda3\\lib\\site-packages (from pybliometrics) (5.8.1)\n",
      "Requirement already satisfied: tqdm in c:\\users\\shifat hossain\\anaconda3\\lib\\site-packages (from pybliometrics) (4.62.3)\n",
      "Requirement already satisfied: simplejson in c:\\users\\shifat hossain\\anaconda3\\lib\\site-packages (from pybliometrics) (3.17.6)\n",
      "Requirement already satisfied: requests in c:\\users\\shifat hossain\\anaconda3\\lib\\site-packages (from pybliometrics) (2.26.0)\n",
      "Requirement already satisfied: charset-normalizer~=2.0.0 in c:\\users\\shifat hossain\\anaconda3\\lib\\site-packages (from requests->pybliometrics) (2.0.4)\n",
      "Requirement already satisfied: certifi>=2017.4.17 in c:\\users\\shifat hossain\\anaconda3\\lib\\site-packages (from requests->pybliometrics) (2021.10.8)\n",
      "Requirement already satisfied: urllib3<1.27,>=1.21.1 in c:\\users\\shifat hossain\\anaconda3\\lib\\site-packages (from requests->pybliometrics) (1.26.7)\n",
      "Requirement already satisfied: idna<4,>=2.5 in c:\\users\\shifat hossain\\anaconda3\\lib\\site-packages (from requests->pybliometrics) (3.2)\n",
      "Requirement already satisfied: colorama in c:\\users\\shifat hossain\\anaconda3\\lib\\site-packages (from tqdm->pybliometrics) (0.4.4)\n",
      "time taken is 0:00:01\n",
      "time taken is 0:00:00\n"
     ]
    }
   ],
   "source": [
    "from datetime import datetime\n",
    "\n",
    "!pip install pandas\n",
    "import pandas as pd\n",
    "\n",
    "!pip install pybliometrics\n",
    "from pybliometrics.scopus import ScopusSearch\n",
    "\n",
    "start= datetime.now().replace(microsecond=0)\n",
    "s= ScopusSearch(\"ISSN (0002-9602) AND PUBYEAR IS 1910\")\n",
    "end= datetime.now().replace(microsecond= 0)\n",
    "print ( f'time taken is {end- start}')\n",
    "#print (len(s.result))\n",
    "\n",
    "start = datetime.now().replace(microsecond=0)\n",
    "s= ScopusSearch('ISSN(0002-9602) AND PUBYEAR IS 2020')\n",
    "end= datetime.now().replace(microsecond=0)\n",
    "print(f'time taken is {end-start}')\n"
   ]
  },
  {
   "cell_type": "code",
   "execution_count": 12,
   "id": "2b920eac",
   "metadata": {},
   "outputs": [
    {
     "name": "stdout",
     "output_type": "stream",
     "text": [
      "shifat\n"
     ]
    }
   ],
   "source": [
    "print ('shifat')"
   ]
  },
  {
   "cell_type": "code",
   "execution_count": 2,
   "id": "28b23329",
   "metadata": {},
   "outputs": [
    {
     "name": "stdout",
     "output_type": "stream",
     "text": [
      "Requirement already satisfied: networkx in c:\\users\\shifat hossain\\anaconda3\\lib\\site-packages (2.6.3)\n"
     ]
    },
    {
     "name": "stderr",
     "output_type": "stream",
     "text": [
      "ERROR: Could not find a version that satisfies the requirement matplotlib.pyplot (from versions: none)\n",
      "ERROR: No matching distribution found for matplotlib.pyplot\n"
     ]
    },
    {
     "ename": "AttributeError",
     "evalue": "'NoneType' object has no attribute 'split'",
     "output_type": "error",
     "traceback": [
      "\u001b[1;31m---------------------------------------------------------------------------\u001b[0m",
      "\u001b[1;31mAttributeError\u001b[0m                            Traceback (most recent call last)",
      "\u001b[1;32mC:\\Users\\SHIFAT~1\\AppData\\Local\\Temp/ipykernel_8920/417404558.py\u001b[0m in \u001b[0;36m<module>\u001b[1;34m\u001b[0m\n\u001b[0;32m      7\u001b[0m \u001b[0ms\u001b[0m\u001b[1;33m=\u001b[0m \u001b[0mScopusSearch\u001b[0m\u001b[1;33m(\u001b[0m \u001b[1;34m'The Proliferation of Criminal Background Check Laws in the United States'\u001b[0m\u001b[1;33m)\u001b[0m\u001b[1;33m\u001b[0m\u001b[1;33m\u001b[0m\u001b[0m\n\u001b[0;32m      8\u001b[0m \u001b[1;31m#print(len(s.result)) ## This prints the number of paper\u001b[0m\u001b[1;33m\u001b[0m\u001b[1;33m\u001b[0m\u001b[0m\n\u001b[1;32m----> 9\u001b[1;33m \u001b[0mAuthors\u001b[0m \u001b[1;33m=\u001b[0m\u001b[1;33m[\u001b[0m\u001b[0mi\u001b[0m\u001b[1;33m.\u001b[0m\u001b[0mauthor_ids\u001b[0m\u001b[1;33m.\u001b[0m\u001b[0msplit\u001b[0m\u001b[1;33m(\u001b[0m\u001b[1;34m';'\u001b[0m\u001b[1;33m)\u001b[0m \u001b[1;32mfor\u001b[0m \u001b[0mi\u001b[0m \u001b[1;32min\u001b[0m \u001b[0ms\u001b[0m\u001b[1;33m.\u001b[0m\u001b[0mresults\u001b[0m\u001b[1;33m]\u001b[0m\u001b[1;33m\u001b[0m\u001b[1;33m\u001b[0m\u001b[0m\n\u001b[0m\u001b[0;32m     10\u001b[0m \u001b[0mcombs\u001b[0m\u001b[1;33m=\u001b[0m \u001b[1;33m[\u001b[0m\u001b[0mlist\u001b[0m \u001b[1;33m(\u001b[0m\u001b[0mcombinations\u001b[0m\u001b[1;33m(\u001b[0m\u001b[0mi\u001b[0m\u001b[1;33m,\u001b[0m\u001b[1;36m2\u001b[0m\u001b[1;33m)\u001b[0m\u001b[1;33m)\u001b[0m \u001b[1;32mfor\u001b[0m \u001b[0mi\u001b[0m \u001b[1;32min\u001b[0m \u001b[0mauthors\u001b[0m\u001b[1;33m]\u001b[0m\u001b[1;33m\u001b[0m\u001b[1;33m\u001b[0m\u001b[0m\n\u001b[0;32m     11\u001b[0m \u001b[0medges\u001b[0m\u001b[1;33m=\u001b[0m \u001b[1;33m[\u001b[0m\u001b[0mi\u001b[0m \u001b[1;32mfor\u001b[0m \u001b[0mj\u001b[0m \u001b[1;32min\u001b[0m \u001b[0mcombs\u001b[0m \u001b[1;32mfor\u001b[0m \u001b[0mi\u001b[0m \u001b[1;32min\u001b[0m \u001b[0mj\u001b[0m\u001b[1;33m]\u001b[0m\u001b[1;33m\u001b[0m\u001b[1;33m\u001b[0m\u001b[0m\n",
      "\u001b[1;32mC:\\Users\\SHIFAT~1\\AppData\\Local\\Temp/ipykernel_8920/417404558.py\u001b[0m in \u001b[0;36m<listcomp>\u001b[1;34m(.0)\u001b[0m\n\u001b[0;32m      7\u001b[0m \u001b[0ms\u001b[0m\u001b[1;33m=\u001b[0m \u001b[0mScopusSearch\u001b[0m\u001b[1;33m(\u001b[0m \u001b[1;34m'The Proliferation of Criminal Background Check Laws in the United States'\u001b[0m\u001b[1;33m)\u001b[0m\u001b[1;33m\u001b[0m\u001b[1;33m\u001b[0m\u001b[0m\n\u001b[0;32m      8\u001b[0m \u001b[1;31m#print(len(s.result)) ## This prints the number of paper\u001b[0m\u001b[1;33m\u001b[0m\u001b[1;33m\u001b[0m\u001b[0m\n\u001b[1;32m----> 9\u001b[1;33m \u001b[0mAuthors\u001b[0m \u001b[1;33m=\u001b[0m\u001b[1;33m[\u001b[0m\u001b[0mi\u001b[0m\u001b[1;33m.\u001b[0m\u001b[0mauthor_ids\u001b[0m\u001b[1;33m.\u001b[0m\u001b[0msplit\u001b[0m\u001b[1;33m(\u001b[0m\u001b[1;34m';'\u001b[0m\u001b[1;33m)\u001b[0m \u001b[1;32mfor\u001b[0m \u001b[0mi\u001b[0m \u001b[1;32min\u001b[0m \u001b[0ms\u001b[0m\u001b[1;33m.\u001b[0m\u001b[0mresults\u001b[0m\u001b[1;33m]\u001b[0m\u001b[1;33m\u001b[0m\u001b[1;33m\u001b[0m\u001b[0m\n\u001b[0m\u001b[0;32m     10\u001b[0m \u001b[0mcombs\u001b[0m\u001b[1;33m=\u001b[0m \u001b[1;33m[\u001b[0m\u001b[0mlist\u001b[0m \u001b[1;33m(\u001b[0m\u001b[0mcombinations\u001b[0m\u001b[1;33m(\u001b[0m\u001b[0mi\u001b[0m\u001b[1;33m,\u001b[0m\u001b[1;36m2\u001b[0m\u001b[1;33m)\u001b[0m\u001b[1;33m)\u001b[0m \u001b[1;32mfor\u001b[0m \u001b[0mi\u001b[0m \u001b[1;32min\u001b[0m \u001b[0mauthors\u001b[0m\u001b[1;33m]\u001b[0m\u001b[1;33m\u001b[0m\u001b[1;33m\u001b[0m\u001b[0m\n\u001b[0;32m     11\u001b[0m \u001b[0medges\u001b[0m\u001b[1;33m=\u001b[0m \u001b[1;33m[\u001b[0m\u001b[0mi\u001b[0m \u001b[1;32mfor\u001b[0m \u001b[0mj\u001b[0m \u001b[1;32min\u001b[0m \u001b[0mcombs\u001b[0m \u001b[1;32mfor\u001b[0m \u001b[0mi\u001b[0m \u001b[1;32min\u001b[0m \u001b[0mj\u001b[0m\u001b[1;33m]\u001b[0m\u001b[1;33m\u001b[0m\u001b[1;33m\u001b[0m\u001b[0m\n",
      "\u001b[1;31mAttributeError\u001b[0m: 'NoneType' object has no attribute 'split'"
     ]
    }
   ],
   "source": [
    "!pip install networkx\n",
    "!pip install matplotlib.pyplot\n",
    "from itertools import combinations\n",
    "import networkx as nx\n",
    "import matplotlib.pyplot as plt\n",
    "from pybliometrics.scopus import ScopusSearch\n",
    "s= ScopusSearch( 'The Proliferation of Criminal Background Check Laws in the United States')\n",
    "#print(len(s.result)) ## This prints the number of paper\n",
    "Authors =[i.author_ids.split(';') for i in s.results]\n",
    "combs= [list (combinations(i,2)) for i in authors]\n",
    "edges= [i for j in combs for i in j]\n",
    "G = nx. Graph()\n",
    "G.add_edges_from(edges)\n",
    "Print (nx.info(G))\n",
    "nx.draw(G, node_size=2)\n",
    "plt.savefig('netword.pdf', bbox_inches= 'tight', figsize= (50,50))\n"
   ]
  },
  {
   "cell_type": "code",
   "execution_count": 11,
   "id": "e857329f",
   "metadata": {},
   "outputs": [
    {
     "ename": "AttributeError",
     "evalue": "'NoneType' object has no attribute 'split'",
     "output_type": "error",
     "traceback": [
      "\u001b[1;31m---------------------------------------------------------------------------\u001b[0m",
      "\u001b[1;31mAttributeError\u001b[0m                            Traceback (most recent call last)",
      "\u001b[1;32mC:\\Users\\SHIFAT~1\\AppData\\Local\\Temp/ipykernel_8920/887270021.py\u001b[0m in \u001b[0;36m<module>\u001b[1;34m\u001b[0m\n\u001b[0;32m      5\u001b[0m \u001b[0ms\u001b[0m\u001b[1;33m=\u001b[0m \u001b[0mScopusSearch\u001b[0m\u001b[1;33m(\u001b[0m \u001b[1;34m'Class Mobility and Political Preferences: Individual and Contextual Effects'\u001b[0m\u001b[1;33m)\u001b[0m\u001b[1;33m\u001b[0m\u001b[1;33m\u001b[0m\u001b[0m\n\u001b[0;32m      6\u001b[0m \u001b[1;31m#print(len(s.result)) ## This prints the number of paper\u001b[0m\u001b[1;33m\u001b[0m\u001b[1;33m\u001b[0m\u001b[0m\n\u001b[1;32m----> 7\u001b[1;33m \u001b[0mauthors\u001b[0m \u001b[1;33m=\u001b[0m\u001b[1;33m[\u001b[0m\u001b[0mi\u001b[0m\u001b[1;33m.\u001b[0m\u001b[0mauthor_ids\u001b[0m\u001b[1;33m.\u001b[0m\u001b[0msplit\u001b[0m\u001b[1;33m(\u001b[0m\u001b[1;34m';'\u001b[0m\u001b[1;33m)\u001b[0m \u001b[1;32mfor\u001b[0m \u001b[0mi\u001b[0m \u001b[1;32min\u001b[0m \u001b[0ms\u001b[0m\u001b[1;33m.\u001b[0m\u001b[0mresults\u001b[0m\u001b[1;33m]\u001b[0m\u001b[1;33m\u001b[0m\u001b[1;33m\u001b[0m\u001b[0m\n\u001b[0m\u001b[0;32m      8\u001b[0m \u001b[0mcombs\u001b[0m\u001b[1;33m=\u001b[0m \u001b[1;33m[\u001b[0m\u001b[0mlist\u001b[0m \u001b[1;33m(\u001b[0m\u001b[0mcombinations\u001b[0m\u001b[1;33m(\u001b[0m\u001b[0mi\u001b[0m\u001b[1;33m,\u001b[0m\u001b[1;36m2\u001b[0m\u001b[1;33m)\u001b[0m\u001b[1;33m)\u001b[0m \u001b[1;32mfor\u001b[0m \u001b[0mi\u001b[0m \u001b[1;32min\u001b[0m \u001b[0mauthors\u001b[0m\u001b[1;33m]\u001b[0m\u001b[1;33m\u001b[0m\u001b[1;33m\u001b[0m\u001b[0m\n\u001b[0;32m      9\u001b[0m \u001b[0medges\u001b[0m\u001b[1;33m=\u001b[0m \u001b[1;33m[\u001b[0m\u001b[0mi\u001b[0m \u001b[1;32mfor\u001b[0m \u001b[0mj\u001b[0m \u001b[1;32min\u001b[0m \u001b[0mcombs\u001b[0m \u001b[1;32mfor\u001b[0m \u001b[0mi\u001b[0m \u001b[1;32min\u001b[0m \u001b[0mj\u001b[0m\u001b[1;33m]\u001b[0m\u001b[1;33m\u001b[0m\u001b[1;33m\u001b[0m\u001b[0m\n",
      "\u001b[1;32mC:\\Users\\SHIFAT~1\\AppData\\Local\\Temp/ipykernel_8920/887270021.py\u001b[0m in \u001b[0;36m<listcomp>\u001b[1;34m(.0)\u001b[0m\n\u001b[0;32m      5\u001b[0m \u001b[0ms\u001b[0m\u001b[1;33m=\u001b[0m \u001b[0mScopusSearch\u001b[0m\u001b[1;33m(\u001b[0m \u001b[1;34m'Class Mobility and Political Preferences: Individual and Contextual Effects'\u001b[0m\u001b[1;33m)\u001b[0m\u001b[1;33m\u001b[0m\u001b[1;33m\u001b[0m\u001b[0m\n\u001b[0;32m      6\u001b[0m \u001b[1;31m#print(len(s.result)) ## This prints the number of paper\u001b[0m\u001b[1;33m\u001b[0m\u001b[1;33m\u001b[0m\u001b[0m\n\u001b[1;32m----> 7\u001b[1;33m \u001b[0mauthors\u001b[0m \u001b[1;33m=\u001b[0m\u001b[1;33m[\u001b[0m\u001b[0mi\u001b[0m\u001b[1;33m.\u001b[0m\u001b[0mauthor_ids\u001b[0m\u001b[1;33m.\u001b[0m\u001b[0msplit\u001b[0m\u001b[1;33m(\u001b[0m\u001b[1;34m';'\u001b[0m\u001b[1;33m)\u001b[0m \u001b[1;32mfor\u001b[0m \u001b[0mi\u001b[0m \u001b[1;32min\u001b[0m \u001b[0ms\u001b[0m\u001b[1;33m.\u001b[0m\u001b[0mresults\u001b[0m\u001b[1;33m]\u001b[0m\u001b[1;33m\u001b[0m\u001b[1;33m\u001b[0m\u001b[0m\n\u001b[0m\u001b[0;32m      8\u001b[0m \u001b[0mcombs\u001b[0m\u001b[1;33m=\u001b[0m \u001b[1;33m[\u001b[0m\u001b[0mlist\u001b[0m \u001b[1;33m(\u001b[0m\u001b[0mcombinations\u001b[0m\u001b[1;33m(\u001b[0m\u001b[0mi\u001b[0m\u001b[1;33m,\u001b[0m\u001b[1;36m2\u001b[0m\u001b[1;33m)\u001b[0m\u001b[1;33m)\u001b[0m \u001b[1;32mfor\u001b[0m \u001b[0mi\u001b[0m \u001b[1;32min\u001b[0m \u001b[0mauthors\u001b[0m\u001b[1;33m]\u001b[0m\u001b[1;33m\u001b[0m\u001b[1;33m\u001b[0m\u001b[0m\n\u001b[0;32m      9\u001b[0m \u001b[0medges\u001b[0m\u001b[1;33m=\u001b[0m \u001b[1;33m[\u001b[0m\u001b[0mi\u001b[0m \u001b[1;32mfor\u001b[0m \u001b[0mj\u001b[0m \u001b[1;32min\u001b[0m \u001b[0mcombs\u001b[0m \u001b[1;32mfor\u001b[0m \u001b[0mi\u001b[0m \u001b[1;32min\u001b[0m \u001b[0mj\u001b[0m\u001b[1;33m]\u001b[0m\u001b[1;33m\u001b[0m\u001b[1;33m\u001b[0m\u001b[0m\n",
      "\u001b[1;31mAttributeError\u001b[0m: 'NoneType' object has no attribute 'split'"
     ]
    }
   ],
   "source": [
    "from itertools import combinations\n",
    "import networkx as nx\n",
    "import matplotlib.pyplot as plt\n",
    "from pybliometrics.scopus import ScopusSearch\n",
    "s= ScopusSearch( 'Class Mobility and Political Preferences: Individual and Contextual Effects')\n",
    "#print(len(s.result)) ## This prints the number of paper\n",
    "authors =[i.author_ids.split(';') for i in s.results]\n",
    "combs= [list (combinations(i,2)) for i in authors]\n",
    "edges= [i for j in combs for i in j]\n",
    "G = nx. Graph()\n",
    "G.add_edges_from(edges)\n",
    "print (nx.info(G))\n",
    "nx.draw(G, node_size=2)\n",
    "plt.savefig('netword.pdf', bbox_inches= 'tight', figsize= (50,50))\n",
    "print ('shifat')"
   ]
  },
  {
   "cell_type": "code",
   "execution_count": 19,
   "id": "693a6689",
   "metadata": {},
   "outputs": [
    {
     "ename": "Scopus403Error",
     "evalue": "Requestor configuration settings insufficient for access to this resource.",
     "output_type": "error",
     "traceback": [
      "\u001b[1;31m---------------------------------------------------------------------------\u001b[0m",
      "\u001b[1;31mScopus403Error\u001b[0m                            Traceback (most recent call last)",
      "\u001b[1;32mC:\\Users\\SHIFAT~1\\AppData\\Local\\Temp/ipykernel_8920/82999417.py\u001b[0m in \u001b[0;36m<module>\u001b[1;34m\u001b[0m\n\u001b[0;32m      9\u001b[0m     \u001b[0mab\u001b[0m\u001b[1;33m=\u001b[0m \u001b[0mAbstractRetrieval\u001b[0m\u001b[1;33m(\u001b[0m\u001b[0meid\u001b[0m\u001b[1;33m)\u001b[0m\u001b[1;33m\u001b[0m\u001b[1;33m\u001b[0m\u001b[0m\n\u001b[0;32m     10\u001b[0m     \u001b[0myear\u001b[0m\u001b[1;33m=\u001b[0m \u001b[0mab\u001b[0m\u001b[1;33m.\u001b[0m\u001b[0mcoverDate\u001b[0m\u001b[1;33m[\u001b[0m\u001b[1;33m:\u001b[0m\u001b[1;36m4\u001b[0m\u001b[1;33m]\u001b[0m\u001b[1;33m\u001b[0m\u001b[1;33m\u001b[0m\u001b[0m\n\u001b[1;32m---> 11\u001b[1;33m     \u001b[0mco\u001b[0m\u001b[1;33m=\u001b[0m \u001b[0mCitationOverview\u001b[0m\u001b[1;33m(\u001b[0m\u001b[0meid\u001b[0m\u001b[1;33m,\u001b[0m \u001b[0mstart\u001b[0m \u001b[1;33m=\u001b[0m \u001b[0myear\u001b[0m\u001b[1;33m)\u001b[0m\u001b[1;33m\u001b[0m\u001b[1;33m\u001b[0m\u001b[0m\n\u001b[0m\u001b[0;32m     12\u001b[0m     \u001b[0mdata\u001b[0m\u001b[1;33m=\u001b[0m \u001b[0mdata\u001b[0m\u001b[1;33m.\u001b[0m\u001b[0mappend\u001b[0m\u001b[1;33m(\u001b[0m\u001b[0mpd\u001b[0m\u001b[1;33m.\u001b[0m\u001b[0mSeries\u001b[0m\u001b[1;33m(\u001b[0m\u001b[0mdict\u001b[0m\u001b[1;33m(\u001b[0m\u001b[0mco\u001b[0m\u001b[1;33m.\u001b[0m\u001b[0mcc\u001b[0m\u001b[1;33m)\u001b[0m\u001b[1;33m,\u001b[0m \u001b[0mname\u001b[0m\u001b[1;33m=\u001b[0m \u001b[0mab\u001b[0m\u001b[1;33m.\u001b[0m\u001b[0mtitle\u001b[0m\u001b[1;33m)\u001b[0m\u001b[1;33m)\u001b[0m\u001b[1;33m\u001b[0m\u001b[1;33m\u001b[0m\u001b[0m\n\u001b[0;32m     13\u001b[0m \u001b[1;31m#Preparing data for plotting\u001b[0m\u001b[1;33m\u001b[0m\u001b[1;33m\u001b[0m\u001b[0m\n",
      "\u001b[1;32m~\\anaconda3\\lib\\site-packages\\pybliometrics\\scopus\\abstract_citation.py\u001b[0m in \u001b[0;36m__init__\u001b[1;34m(self, identifier, start, end, id_type, eid, refresh, citation, **kwds)\u001b[0m\n\u001b[0;32m    273\u001b[0m         \u001b[0mkwds\u001b[0m\u001b[1;33m.\u001b[0m\u001b[0mupdate\u001b[0m\u001b[1;33m(\u001b[0m\u001b[1;33m{\u001b[0m\u001b[0mid_type\u001b[0m\u001b[1;33m:\u001b[0m \u001b[0midentifier\u001b[0m\u001b[1;33m}\u001b[0m\u001b[1;33m)\u001b[0m\u001b[1;33m\u001b[0m\u001b[1;33m\u001b[0m\u001b[0m\n\u001b[0;32m    274\u001b[0m         \u001b[0mstem\u001b[0m \u001b[1;33m=\u001b[0m \u001b[0mmd5\u001b[0m\u001b[1;33m(\u001b[0m\u001b[1;34m\"_\"\u001b[0m\u001b[1;33m.\u001b[0m\u001b[0mjoin\u001b[0m\u001b[1;33m(\u001b[0m\u001b[0midentifier\u001b[0m\u001b[1;33m)\u001b[0m\u001b[1;33m.\u001b[0m\u001b[0mencode\u001b[0m\u001b[1;33m(\u001b[0m\u001b[1;34m'utf8'\u001b[0m\u001b[1;33m)\u001b[0m\u001b[1;33m)\u001b[0m\u001b[1;33m.\u001b[0m\u001b[0mhexdigest\u001b[0m\u001b[1;33m(\u001b[0m\u001b[1;33m)\u001b[0m\u001b[1;33m\u001b[0m\u001b[1;33m\u001b[0m\u001b[0m\n\u001b[1;32m--> 275\u001b[1;33m         Retrieval.__init__(self, stem, api='CitationOverview', date=date,\n\u001b[0m\u001b[0;32m    276\u001b[0m                            citation=citation, **kwds)\n\u001b[0;32m    277\u001b[0m         \u001b[0mself\u001b[0m\u001b[1;33m.\u001b[0m\u001b[0m_data\u001b[0m \u001b[1;33m=\u001b[0m \u001b[0mself\u001b[0m\u001b[1;33m.\u001b[0m\u001b[0m_json\u001b[0m\u001b[1;33m[\u001b[0m\u001b[1;34m'abstract-citations-response'\u001b[0m\u001b[1;33m]\u001b[0m\u001b[1;33m\u001b[0m\u001b[1;33m\u001b[0m\u001b[0m\n",
      "\u001b[1;32m~\\anaconda3\\lib\\site-packages\\pybliometrics\\scopus\\superclasses\\retrieval.py\u001b[0m in \u001b[0;36m__init__\u001b[1;34m(self, identifier, api, id_type, **kwds)\u001b[0m\n\u001b[0;32m     46\u001b[0m         \u001b[1;31m# Parse file contents\u001b[0m\u001b[1;33m\u001b[0m\u001b[1;33m\u001b[0m\u001b[0m\n\u001b[0;32m     47\u001b[0m         \u001b[0mparams\u001b[0m \u001b[1;33m=\u001b[0m \u001b[1;33m{\u001b[0m\u001b[1;34m'view'\u001b[0m\u001b[1;33m:\u001b[0m \u001b[0mself\u001b[0m\u001b[1;33m.\u001b[0m\u001b[0m_view\u001b[0m\u001b[1;33m,\u001b[0m \u001b[1;33m**\u001b[0m\u001b[0mkwds\u001b[0m\u001b[1;33m}\u001b[0m\u001b[1;33m\u001b[0m\u001b[1;33m\u001b[0m\u001b[0m\n\u001b[1;32m---> 48\u001b[1;33m         \u001b[0mBase\u001b[0m\u001b[1;33m.\u001b[0m\u001b[0m__init__\u001b[0m\u001b[1;33m(\u001b[0m\u001b[0mself\u001b[0m\u001b[1;33m,\u001b[0m \u001b[0mparams\u001b[0m\u001b[1;33m=\u001b[0m\u001b[0mparams\u001b[0m\u001b[1;33m,\u001b[0m \u001b[0murl\u001b[0m\u001b[1;33m=\u001b[0m\u001b[0murl\u001b[0m\u001b[1;33m,\u001b[0m \u001b[0mapi\u001b[0m\u001b[1;33m=\u001b[0m\u001b[0mapi\u001b[0m\u001b[1;33m)\u001b[0m\u001b[1;33m\u001b[0m\u001b[1;33m\u001b[0m\u001b[0m\n\u001b[0m",
      "\u001b[1;32m~\\anaconda3\\lib\\site-packages\\pybliometrics\\scopus\\superclasses\\base.py\u001b[0m in \u001b[0;36m__init__\u001b[1;34m(self, params, url, api, download, verbose, *args, **kwds)\u001b[0m\n\u001b[0;32m     57\u001b[0m                 \u001b[0mself\u001b[0m\u001b[1;33m.\u001b[0m\u001b[0m_json\u001b[0m \u001b[1;33m=\u001b[0m \u001b[0mloads\u001b[0m\u001b[1;33m(\u001b[0m\u001b[0mfname\u001b[0m\u001b[1;33m.\u001b[0m\u001b[0mread_text\u001b[0m\u001b[1;33m(\u001b[0m\u001b[1;33m)\u001b[0m\u001b[1;33m)\u001b[0m\u001b[1;33m\u001b[0m\u001b[1;33m\u001b[0m\u001b[0m\n\u001b[0;32m     58\u001b[0m         \u001b[1;32melse\u001b[0m\u001b[1;33m:\u001b[0m\u001b[1;33m\u001b[0m\u001b[1;33m\u001b[0m\u001b[0m\n\u001b[1;32m---> 59\u001b[1;33m             \u001b[0mresp\u001b[0m \u001b[1;33m=\u001b[0m \u001b[0mget_content\u001b[0m\u001b[1;33m(\u001b[0m\u001b[0murl\u001b[0m\u001b[1;33m,\u001b[0m \u001b[0mapi\u001b[0m\u001b[1;33m,\u001b[0m \u001b[0mparams\u001b[0m\u001b[1;33m,\u001b[0m \u001b[1;33m*\u001b[0m\u001b[0margs\u001b[0m\u001b[1;33m,\u001b[0m \u001b[1;33m**\u001b[0m\u001b[0mkwds\u001b[0m\u001b[1;33m)\u001b[0m\u001b[1;33m\u001b[0m\u001b[1;33m\u001b[0m\u001b[0m\n\u001b[0m\u001b[0;32m     60\u001b[0m             \u001b[0mheader\u001b[0m \u001b[1;33m=\u001b[0m \u001b[0mresp\u001b[0m\u001b[1;33m.\u001b[0m\u001b[0mheaders\u001b[0m\u001b[1;33m\u001b[0m\u001b[1;33m\u001b[0m\u001b[0m\n\u001b[0;32m     61\u001b[0m             \u001b[1;32mif\u001b[0m \u001b[0msearch_request\u001b[0m\u001b[1;33m:\u001b[0m\u001b[1;33m\u001b[0m\u001b[1;33m\u001b[0m\u001b[0m\n",
      "\u001b[1;32m~\\anaconda3\\lib\\site-packages\\pybliometrics\\scopus\\utils\\get_content.py\u001b[0m in \u001b[0;36mget_content\u001b[1;34m(url, api, params, **kwds)\u001b[0m\n\u001b[0;32m    102\u001b[0m             \u001b[1;32mexcept\u001b[0m\u001b[1;33m:\u001b[0m\u001b[1;33m\u001b[0m\u001b[1;33m\u001b[0m\u001b[0m\n\u001b[0;32m    103\u001b[0m                 \u001b[0mreason\u001b[0m \u001b[1;33m=\u001b[0m \u001b[1;34m\"\"\u001b[0m\u001b[1;33m\u001b[0m\u001b[1;33m\u001b[0m\u001b[0m\n\u001b[1;32m--> 104\u001b[1;33m         \u001b[1;32mraise\u001b[0m \u001b[0merrors\u001b[0m\u001b[1;33m[\u001b[0m\u001b[0mresp\u001b[0m\u001b[1;33m.\u001b[0m\u001b[0mstatus_code\u001b[0m\u001b[1;33m]\u001b[0m\u001b[1;33m(\u001b[0m\u001b[0mreason\u001b[0m\u001b[1;33m)\u001b[0m\u001b[1;33m\u001b[0m\u001b[1;33m\u001b[0m\u001b[0m\n\u001b[0m\u001b[0;32m    105\u001b[0m     \u001b[1;32mexcept\u001b[0m \u001b[0mKeyError\u001b[0m\u001b[1;33m:\u001b[0m\u001b[1;33m\u001b[0m\u001b[1;33m\u001b[0m\u001b[0m\n\u001b[0;32m    106\u001b[0m         \u001b[0mresp\u001b[0m\u001b[1;33m.\u001b[0m\u001b[0mraise_for_status\u001b[0m\u001b[1;33m(\u001b[0m\u001b[1;33m)\u001b[0m\u001b[1;33m\u001b[0m\u001b[1;33m\u001b[0m\u001b[0m\n",
      "\u001b[1;31mScopus403Error\u001b[0m: Requestor configuration settings insufficient for access to this resource."
     ]
    }
   ],
   "source": [
    "import scipy\n",
    "import seaborn\n",
    "import pandas as pd\n",
    "import matplotlib.pyplot as plt\n",
    "from pybliometrics.scopus import AbstractRetrieval,  CitationOverview\n",
    "##Saving yearly citation counts in DataFrame\n",
    "data= pd.DataFrame()\n",
    "for eid in ('2-s2.0-84900013243','2-s2.0-84977703147','2-s2.084977736029'):\n",
    "    ab= AbstractRetrieval(eid)\n",
    "    year= ab.coverDate[:4]\n",
    "    co= CitationOverview(eid, start = year)\n",
    "    data= data.append(pd.Series(dict(co.cc), name= ab.title))\n",
    "#Preparing data for plotting\n",
    "data= data.T.astype(float)\n",
    "data.index.name= 'year'\n",
    "data= data.reset_index()\n",
    "## Plot and save\n",
    "fig,ax= plt.subplots(figsize=(15,7))\n",
    "melted = data.melt(id_vars= 'year', var_name= 'paper', value_name= 'citatuons')\n",
    "sns.barplot(data= melted, x= 'year', y= 'citation', hue= 'paper', ax= ax)\n",
    "Plt.savefig ('citations.pdf', bbox_inches= 'tight')\n",
    "###KL-smilarity of distributions\n",
    "scipy.stats.ks_2samp(data,iloc[0:,0], data.iloc[: ,1])\n"
   ]
  },
  {
   "cell_type": "code",
   "execution_count": 31,
   "id": "649fdcc7",
   "metadata": {},
   "outputs": [
    {
     "name": "stdout",
     "output_type": "stream",
     "text": [
      "679\n"
     ]
    },
    {
     "ename": "TypeError",
     "evalue": "__init__() got an unexpected keyword argument 'tokensizer'",
     "output_type": "error",
     "traceback": [
      "\u001b[1;31m---------------------------------------------------------------------------\u001b[0m",
      "\u001b[1;31mTypeError\u001b[0m                                 Traceback (most recent call last)",
      "\u001b[1;32mC:\\Users\\SHIFAT~1\\AppData\\Local\\Temp/ipykernel_8920/3409702573.py\u001b[0m in \u001b[0;36m<module>\u001b[1;34m\u001b[0m\n\u001b[0;32m     16\u001b[0m     \u001b[1;32mreturn\u001b[0m \u001b[1;33m[\u001b[0m\u001b[0mstemmer\u001b[0m\u001b[1;33m.\u001b[0m\u001b[0mstem\u001b[0m\u001b[1;33m(\u001b[0m\u001b[0mt\u001b[0m\u001b[1;33m)\u001b[0m \u001b[1;32mfor\u001b[0m \u001b[0mt\u001b[0m \u001b[1;32min\u001b[0m \u001b[0mnltk\u001b[0m\u001b[1;33m.\u001b[0m\u001b[0mword_tokensize\u001b[0m\u001b[1;33m(\u001b[0m\u001b[0mtext\u001b[0m\u001b[1;33m.\u001b[0m\u001b[0mlower\u001b[0m\u001b[1;33m(\u001b[0m\u001b[1;33m)\u001b[0m\u001b[1;33m)\u001b[0m\u001b[1;33m]\u001b[0m\u001b[1;33m\u001b[0m\u001b[1;33m\u001b[0m\u001b[0m\n\u001b[0;32m     17\u001b[0m \u001b[0mparams\u001b[0m\u001b[1;33m=\u001b[0m \u001b[1;33m{\u001b[0m\u001b[1;34m'stop_words'\u001b[0m\u001b[1;33m:\u001b[0m \u001b[1;34m\"english\"\u001b[0m\u001b[1;33m,\u001b[0m \u001b[1;34m\"tokensizer\"\u001b[0m\u001b[1;33m:\u001b[0m \u001b[0mtokensize_and_stem\u001b[0m\u001b[1;33m,\u001b[0m \u001b[1;34m\"ngram_range\"\u001b[0m\u001b[1;33m:\u001b[0m\u001b[1;33m(\u001b[0m\u001b[1;36m1\u001b[0m\u001b[1;33m,\u001b[0m\u001b[1;36m2\u001b[0m\u001b[1;33m)\u001b[0m\u001b[1;33m,\u001b[0m \u001b[1;34m\"max_df\"\u001b[0m\u001b[1;33m:\u001b[0m \u001b[1;36m0.6\u001b[0m\u001b[1;33m}\u001b[0m\u001b[1;33m\u001b[0m\u001b[1;33m\u001b[0m\u001b[0m\n\u001b[1;32m---> 18\u001b[1;33m \u001b[0mvectorizer\u001b[0m\u001b[1;33m=\u001b[0m\u001b[0mCV\u001b[0m\u001b[1;33m(\u001b[0m\u001b[1;33m**\u001b[0m\u001b[0mparams\u001b[0m\u001b[1;33m)\u001b[0m\u001b[1;33m\u001b[0m\u001b[1;33m\u001b[0m\u001b[0m\n\u001b[0m\u001b[0;32m     19\u001b[0m \u001b[0mmatrix\u001b[0m \u001b[1;33m=\u001b[0m \u001b[0mvectorizer\u001b[0m\u001b[1;33m.\u001b[0m\u001b[0mfit_transform\u001b[0m\u001b[1;33m(\u001b[0m\u001b[0mabstarcts\u001b[0m\u001b[1;33m)\u001b[0m\u001b[1;33m\u001b[0m\u001b[1;33m\u001b[0m\u001b[0m\n\u001b[0;32m     20\u001b[0m \u001b[0mterms\u001b[0m\u001b[1;33m=\u001b[0m \u001b[0mvectorizer\u001b[0m\u001b[1;33m.\u001b[0m\u001b[0mget_feature_names\u001b[0m\u001b[1;33m(\u001b[0m\u001b[1;33m)\u001b[0m\u001b[1;33m\u001b[0m\u001b[1;33m\u001b[0m\u001b[0m\n",
      "\u001b[1;32m~\\anaconda3\\lib\\site-packages\\sklearn\\utils\\validation.py\u001b[0m in \u001b[0;36minner_f\u001b[1;34m(*args, **kwargs)\u001b[0m\n\u001b[0;32m     61\u001b[0m             \u001b[0mextra_args\u001b[0m \u001b[1;33m=\u001b[0m \u001b[0mlen\u001b[0m\u001b[1;33m(\u001b[0m\u001b[0margs\u001b[0m\u001b[1;33m)\u001b[0m \u001b[1;33m-\u001b[0m \u001b[0mlen\u001b[0m\u001b[1;33m(\u001b[0m\u001b[0mall_args\u001b[0m\u001b[1;33m)\u001b[0m\u001b[1;33m\u001b[0m\u001b[1;33m\u001b[0m\u001b[0m\n\u001b[0;32m     62\u001b[0m             \u001b[1;32mif\u001b[0m \u001b[0mextra_args\u001b[0m \u001b[1;33m<=\u001b[0m \u001b[1;36m0\u001b[0m\u001b[1;33m:\u001b[0m\u001b[1;33m\u001b[0m\u001b[1;33m\u001b[0m\u001b[0m\n\u001b[1;32m---> 63\u001b[1;33m                 \u001b[1;32mreturn\u001b[0m \u001b[0mf\u001b[0m\u001b[1;33m(\u001b[0m\u001b[1;33m*\u001b[0m\u001b[0margs\u001b[0m\u001b[1;33m,\u001b[0m \u001b[1;33m**\u001b[0m\u001b[0mkwargs\u001b[0m\u001b[1;33m)\u001b[0m\u001b[1;33m\u001b[0m\u001b[1;33m\u001b[0m\u001b[0m\n\u001b[0m\u001b[0;32m     64\u001b[0m \u001b[1;33m\u001b[0m\u001b[0m\n\u001b[0;32m     65\u001b[0m             \u001b[1;31m# extra_args > 0\u001b[0m\u001b[1;33m\u001b[0m\u001b[1;33m\u001b[0m\u001b[0m\n",
      "\u001b[1;31mTypeError\u001b[0m: __init__() got an unexpected keyword argument 'tokensizer'"
     ]
    }
   ],
   "source": [
    "from string import digits, punctuation\n",
    "import nltk\n",
    "import pandas as pd\n",
    "from pybliometrics.scopus import ScopusSearch\n",
    "from sklearn.feature_extraction.text import CountVectorizer as CV\n",
    "from sklearn.decomposition import LatentDirichletAllocation as LDA\n",
    "\n",
    "from sklearn.feature_extraction.text import CountVectorizer as CV\n",
    "from sklearn.decomposition import LatentDirichletAllocation as LDA\n",
    "s= ScopusSearch('SOURCE-ID(21100422153)')\n",
    "abstracts= [i.description for i in s.results if i.description]\n",
    "print (len(abstracts))\n",
    "stemmer= nltk.snowball.SnowballStemmer('english')\n",
    "def tokensize_and_stem(text):\n",
    "    text= text.translate(str.maketrans({p: \"\" for p in puntuation + digits + \"@\"}))\n",
    "    return [stemmer.stem(t) for t in nltk.word_tokensize(text.lower())]\n",
    "params= {'stop_words': \"english\", \"tokensizer\": tokensize_and_stem, \"ngram_range\":(1,2), \"max_df\": 0.6}\n",
    "vectorizer=CV(**params)\n",
    "matrix = vectorizer.fit_transform(abstarcts)\n",
    "terms= vectorizer.get_feature_names()\n",
    "print (len(terms))\n",
    "lda= LDA(n_components= 3).fit(matrix)\n",
    "for topic in lda.components:\n",
    "    text = \",\".join(term[i] for i in topic.argsort() [: -10:-1])\n",
    "    print (text)\n"
   ]
  },
  {
   "cell_type": "code",
   "execution_count": null,
   "id": "54616924",
   "metadata": {},
   "outputs": [],
   "source": []
  },
  {
   "cell_type": "code",
   "execution_count": null,
   "id": "bed57049",
   "metadata": {},
   "outputs": [],
   "source": []
  }
 ],
 "metadata": {
  "kernelspec": {
   "display_name": "Python 3 (ipykernel)",
   "language": "python",
   "name": "python3"
  },
  "language_info": {
   "codemirror_mode": {
    "name": "ipython",
    "version": 3
   },
   "file_extension": ".py",
   "mimetype": "text/x-python",
   "name": "python",
   "nbconvert_exporter": "python",
   "pygments_lexer": "ipython3",
   "version": "3.9.7"
  }
 },
 "nbformat": 4,
 "nbformat_minor": 5
}
